{
 "cells": [
  {
   "cell_type": "code",
   "execution_count": 8,
   "metadata": {
    "collapsed": true
   },
   "outputs": [],
   "source": [
    "from bs4 import BeautifulSoup\n",
    "import requests\n",
    "import warnings\n",
    "import re\n",
    "import time\n",
    "import json\n",
    "from pathlib import Path\n",
    "import os\n",
    "import unicodedata\n",
    "import numpy as np\n",
    "warnings.filterwarnings(\"ignore\", category=UserWarning, module='bs4')"
   ]
  },
  {
   "cell_type": "code",
   "execution_count": 49,
   "metadata": {},
   "outputs": [],
   "source": [
    "def get_info(drug_name):\n",
    "    drug_name = drug_name.replace(\" \", \"-\").replace(\"\\'\", '-').lower()\n",
    "    url = \"https://www.drugs.com/\" + drug_name + \".html\"\n",
    "    result = requests.get(url).content\n",
    "    soup = BeautifulSoup(result)\n",
    "    \n",
    "    \n",
    "    info_divs = soup.findAll(\"div\", {\"class\": \"drugInfoSnip\"})\n",
    "    \n",
    "    availability = \"\"\n",
    "    pregnancy = \"\"\n",
    "    CSA_schedule = \"\"\n",
    "    \n",
    "    for div in info_divs:\n",
    "        children = div.findChildren()\n",
    "        for child in children:\n",
    "            if child.name == 'p':\n",
    "#                 print(child)\n",
    "                p_children = child.findChildren()\n",
    "                for p_child in p_children:\n",
    "                    if p_child.name == 'strong':\n",
    "#                         print(p_child)\n",
    "                        parent = p_child.parent\n",
    "#                         print(parent)\n",
    "                        strong_id = str(p_child)[8:-9]\n",
    "#                         print(strong_id)\n",
    "                        if 'availability' in strong_id.lower():\n",
    "                            availability = parent.findNext('span').string.strip()\n",
    "                        elif 'pregnancy' in strong_id.lower():\n",
    "                            pregnancy = parent.findNext('span').string.strip()\n",
    "                        elif 'csa' in strong_id.lower():\n",
    "                            CSA_schedule = parent.findNext('span').string.strip()\n",
    "    return (availability, pregnancy, CSA_schedule)"
   ]
  },
  {
   "cell_type": "code",
   "execution_count": 55,
   "metadata": {},
   "outputs": [
    {
     "data": {
      "text/plain": [
       "('Prescription only', 'No proven risk in humans', 'Not a controlled drug')"
      ]
     },
     "execution_count": 55,
     "metadata": {},
     "output_type": "execute_result"
    }
   ],
   "source": [
    "get_info('Azulfidine')"
   ]
  },
  {
   "cell_type": "code",
   "execution_count": 41,
   "metadata": {},
   "outputs": [
    {
     "data": {
      "text/plain": [
       "8"
      ]
     },
     "execution_count": 41,
     "metadata": {},
     "output_type": "execute_result"
    }
   ],
   "source": [
    "x = \"<strong>\"\n",
    "len(x)"
   ]
  },
  {
   "cell_type": "code",
   "execution_count": null,
   "metadata": {
    "collapsed": true
   },
   "outputs": [],
   "source": []
  }
 ],
 "metadata": {
  "kernelspec": {
   "display_name": "Python 3",
   "language": "python",
   "name": "python3"
  },
  "language_info": {
   "codemirror_mode": {
    "name": "ipython",
    "version": 3
   },
   "file_extension": ".py",
   "mimetype": "text/x-python",
   "name": "python",
   "nbconvert_exporter": "python",
   "pygments_lexer": "ipython3",
   "version": "3.5.3"
  }
 },
 "nbformat": 4,
 "nbformat_minor": 1
}
