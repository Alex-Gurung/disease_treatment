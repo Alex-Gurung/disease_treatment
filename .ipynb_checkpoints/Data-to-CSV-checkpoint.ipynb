{
 "cells": [
  {
   "cell_type": "code",
   "execution_count": 88,
   "metadata": {
    "collapsed": true
   },
   "outputs": [],
   "source": [
    "import pandas as pd\n",
    "import numpy as np\n",
    "import os\n",
    "import json"
   ]
  },
  {
   "cell_type": "markdown",
   "metadata": {},
   "source": [
    "## Disease_Sheet Format:\n",
    "*Disease->Symptoms->Sheet Link*"
   ]
  },
  {
   "cell_type": "code",
   "execution_count": 70,
   "metadata": {},
   "outputs": [
    {
     "name": "stdout",
     "output_type": "stream",
     "text": [
      "['Abacterial cystitis (Alkylating Agent Cystitis)' 'Abdominal Adhesions'\n",
      " 'Abdominal bloating (Abdominal Distension)' ..., 'Zits(Acne)'\n",
      " 'Zollinger-EllisonSyndrome' 'Zygomycosis(Mucormycosis,Invasive)']\n"
     ]
    }
   ],
   "source": [
    "letters = [\"a\", \"b\", \"c\", \"d\", \"e\", \"f\", \"g\", \"h\", \"i\", \"j\", \"k\", \"l\", \"m\", \"n\", \"o\", \"p\", \"q\", \"r\", \"s\", \"t\", \"u\", \"v\", \"w\", \"x\", \"y\", \"z\"]\n",
    "disease_names = []\n",
    "for letter in letters:\n",
    "    letter_diseases = os.listdir(os.getcwd()+\"\\\\_drugs\\\\\"+letter+\"_drugs\")\n",
    "#     print(type(letter_diseases))\n",
    "    disease_names = np.append(disease_names, [disease.split(\"_drugs.txt\")[0] for disease in letter_diseases])\n",
    "    #     for disease in letter_diseases:\n",
    "#         np.append(disease_names, disease)\n",
    "disease_names = np.array(disease_names)\n",
    "\n",
    "print(disease_names)\n",
    "# print(disease_names.size)\n",
    "# disease_names.reshape((disease_names.size, 3))"
   ]
  },
  {
   "cell_type": "code",
   "execution_count": 72,
   "metadata": {},
   "outputs": [
    {
     "data": {
      "text/html": [
       "<div>\n",
       "<table border=\"1\" class=\"dataframe\">\n",
       "  <thead>\n",
       "    <tr style=\"text-align: right;\">\n",
       "      <th></th>\n",
       "      <th>Disease</th>\n",
       "      <th>Symptoms</th>\n",
       "      <th>Sheet Link</th>\n",
       "    </tr>\n",
       "  </thead>\n",
       "  <tbody>\n",
       "    <tr>\n",
       "      <th>0</th>\n",
       "      <td>Abacterial cystitis (Alkylating Agent Cystitis)</td>\n",
       "      <td>NaN</td>\n",
       "      <td>NaN</td>\n",
       "    </tr>\n",
       "    <tr>\n",
       "      <th>1</th>\n",
       "      <td>Abdominal Adhesions</td>\n",
       "      <td>NaN</td>\n",
       "      <td>NaN</td>\n",
       "    </tr>\n",
       "    <tr>\n",
       "      <th>2</th>\n",
       "      <td>Abdominal bloating (Abdominal Distension)</td>\n",
       "      <td>NaN</td>\n",
       "      <td>NaN</td>\n",
       "    </tr>\n",
       "    <tr>\n",
       "      <th>3</th>\n",
       "      <td>Abdominal Distension Prior to Abdominal X-ray</td>\n",
       "      <td>NaN</td>\n",
       "      <td>NaN</td>\n",
       "    </tr>\n",
       "    <tr>\n",
       "      <th>4</th>\n",
       "      <td>Abdominal Distension</td>\n",
       "      <td>NaN</td>\n",
       "      <td>NaN</td>\n",
       "    </tr>\n",
       "  </tbody>\n",
       "</table>\n",
       "</div>"
      ],
      "text/plain": [
       "                                           Disease  Symptoms  Sheet Link\n",
       "0  Abacterial cystitis (Alkylating Agent Cystitis)       NaN         NaN\n",
       "1                              Abdominal Adhesions       NaN         NaN\n",
       "2        Abdominal bloating (Abdominal Distension)       NaN         NaN\n",
       "3    Abdominal Distension Prior to Abdominal X-ray       NaN         NaN\n",
       "4                             Abdominal Distension       NaN         NaN"
      ]
     },
     "execution_count": 72,
     "metadata": {},
     "output_type": "execute_result"
    }
   ],
   "source": [
    "data_frame = pd.DataFrame({'Disease':disease_names})\n",
    "data_frame[\"Symptoms\"] = np.nan\n",
    "data_frame[\"Sheet Link\"] = np.nan\n",
    "data_frame.head()"
   ]
  },
  {
   "cell_type": "code",
   "execution_count": 74,
   "metadata": {
    "collapsed": true
   },
   "outputs": [],
   "source": [
    "data_frame.to_csv('csvs/Diseases.csv')"
   ]
  },
  {
   "cell_type": "markdown",
   "metadata": {},
   "source": [
    "## Disease to Drug"
   ]
  },
  {
   "cell_type": "code",
   "execution_count": 84,
   "metadata": {},
   "outputs": [
    {
     "name": "stdout",
     "output_type": "stream",
     "text": [
      "3759\n"
     ]
    }
   ],
   "source": [
    "letters = [\"a\", \"b\", \"c\", \"d\", \"e\", \"f\", \"g\", \"h\", \"i\", \"j\", \"k\", \"l\", \"m\", \"n\", \"o\", \"p\", \"q\", \"r\", \"s\", \"t\", \"u\", \"v\", \"w\", \"x\", \"y\", \"z\"]\n",
    "disease_names = []\n",
    "for letter in letters:\n",
    "    letter_diseases = os.listdir(os.getcwd()+\"\\\\_drugs\\\\\"+letter+\"_drugs\")\n",
    "#     print(type(letter_diseases))\n",
    "    disease_names = np.append(disease_names, [disease.split(\"_drugs.txt\")[0] for disease in letter_diseases])\n",
    "    #     for disease in letter_diseases:\n",
    "#         np.append(disease_names`, disease)\n",
    "disease_names = np.array(disease_names)\n",
    "\n",
    "print(len(disease_names))"
   ]
  },
  {
   "cell_type": "code",
   "execution_count": 128,
   "metadata": {},
   "outputs": [],
   "source": [
    "structure = [\"Brand Name\",\"Generic Name\",\"Type of Treatment\",\"Brief Description\",\"Quantity\",\"Location\",\"Uninsured Cost\",\"Typical Copay\",\"Rating\",\"Vendor\",\"Effectiveness\",\"Side Effects / Risk\",\"Ingredients\",\"Usage Overview\",\"Conflicting Treatment/Therapies\",\"Food Interaction\",\"Frequency of Treatment\",\"Estimated Percentage of Usage\",\"Additional Information\",\"Reference Link\"]\n",
    "for disease in disease_names:\n",
    "    drugs = open(os.getcwd()+\"\\\\_drugs\\\\\" + disease[0] + \"_drugs\\\\\"+ disease+\"_drugs.txt\", 'r').read().split(\"\\n\")\n",
    "    drug_df = pd.DataFrame()\n",
    "    for section in structure:\n",
    "        drug_df[section] = np.nan\n",
    "    drug_df[\"Brand Name\"] = drugs\n",
    "    drug_df.to_csv('csvs/' + disease + '.csv')\n",
    "#     drug_df.head()"
   ]
  },
  {
   "cell_type": "markdown",
   "metadata": {},
   "source": [
    "## Side Effects"
   ]
  },
  {
   "cell_type": "code",
   "execution_count": 135,
   "metadata": {},
   "outputs": [
    {
     "name": "stdout",
     "output_type": "stream",
     "text": [
      "Abacterial cystitis (Alkylating Agent Cystitis)\n"
     ]
    },
    {
     "ename": "AttributeError",
     "evalue": "'numpy.float64' object has no attribute 'replace'",
     "output_type": "error",
     "traceback": [
      "\u001b[1;31m---------------------------------------------------------------------------\u001b[0m",
      "\u001b[1;31mAttributeError\u001b[0m                            Traceback (most recent call last)",
      "\u001b[1;32m<ipython-input-135-82a11e88f745>\u001b[0m in \u001b[0;36m<module>\u001b[1;34m()\u001b[0m\n\u001b[0;32m      9\u001b[0m     \u001b[0mdrug_df\u001b[0m\u001b[1;33m.\u001b[0m\u001b[0mindex\u001b[0m \u001b[1;33m=\u001b[0m \u001b[1;33m[\u001b[0m\u001b[0mstr\u001b[0m\u001b[1;33m(\u001b[0m\u001b[0mi\u001b[0m\u001b[1;33m)\u001b[0m \u001b[1;32mfor\u001b[0m \u001b[0mi\u001b[0m \u001b[1;32min\u001b[0m \u001b[0mrange\u001b[0m\u001b[1;33m(\u001b[0m\u001b[0mlen\u001b[0m\u001b[1;33m(\u001b[0m\u001b[0mdrug_df\u001b[0m\u001b[1;33m)\u001b[0m\u001b[1;33m)\u001b[0m\u001b[1;33m]\u001b[0m\u001b[1;33m\u001b[0m\u001b[0m\n\u001b[0;32m     10\u001b[0m     \u001b[1;32mfor\u001b[0m \u001b[0mi\u001b[0m \u001b[1;32min\u001b[0m \u001b[0mrange\u001b[0m\u001b[1;33m(\u001b[0m\u001b[0mlen\u001b[0m\u001b[1;33m(\u001b[0m\u001b[0mdrug_df\u001b[0m\u001b[1;33m[\u001b[0m\u001b[1;34m\"Brand Name\"\u001b[0m\u001b[1;33m]\u001b[0m\u001b[1;33m)\u001b[0m\u001b[1;33m)\u001b[0m\u001b[1;33m:\u001b[0m\u001b[1;33m\u001b[0m\u001b[0m\n\u001b[1;32m---> 11\u001b[1;33m         \u001b[0mdrug_name\u001b[0m \u001b[1;33m=\u001b[0m \u001b[0mdrug_df\u001b[0m\u001b[1;33m[\u001b[0m\u001b[1;34m'Brand Name'\u001b[0m\u001b[1;33m]\u001b[0m\u001b[1;33m[\u001b[0m\u001b[0mi\u001b[0m\u001b[1;33m]\u001b[0m\u001b[1;33m.\u001b[0m\u001b[0mreplace\u001b[0m\u001b[1;33m(\u001b[0m\u001b[1;34m\" / \"\u001b[0m\u001b[1;33m,\u001b[0m \u001b[1;34m\"-\"\u001b[0m\u001b[1;33m)\u001b[0m\u001b[1;33m.\u001b[0m\u001b[0mreplace\u001b[0m\u001b[1;33m(\u001b[0m\u001b[1;34m\" \"\u001b[0m\u001b[1;33m,\u001b[0m \u001b[1;34m\"-\"\u001b[0m\u001b[1;33m)\u001b[0m\u001b[1;33m.\u001b[0m\u001b[0mreplace\u001b[0m\u001b[1;33m(\u001b[0m\u001b[1;34m\"\\'\"\u001b[0m\u001b[1;33m,\u001b[0m \u001b[1;34m'-'\u001b[0m\u001b[1;33m)\u001b[0m\u001b[1;33m.\u001b[0m\u001b[0mlower\u001b[0m\u001b[1;33m(\u001b[0m\u001b[1;33m)\u001b[0m\u001b[1;33m\u001b[0m\u001b[0m\n\u001b[0m\u001b[0;32m     12\u001b[0m         \u001b[1;32mif\u001b[0m \u001b[0mdrug_name\u001b[0m \u001b[1;32min\u001b[0m \u001b[0mside_effects_json\u001b[0m\u001b[1;33m:\u001b[0m\u001b[1;33m\u001b[0m\u001b[0m\n\u001b[0;32m     13\u001b[0m             \u001b[0mdrug_df\u001b[0m\u001b[1;33m.\u001b[0m\u001b[0mset_value\u001b[0m\u001b[1;33m(\u001b[0m\u001b[0mstr\u001b[0m\u001b[1;33m(\u001b[0m\u001b[0mi\u001b[0m\u001b[1;33m)\u001b[0m\u001b[1;33m,\u001b[0m \u001b[1;34m'Side Effects / Risk'\u001b[0m\u001b[1;33m,\u001b[0m \u001b[0mside_effects_json\u001b[0m\u001b[1;33m[\u001b[0m\u001b[0mdrug_name\u001b[0m\u001b[1;33m]\u001b[0m\u001b[1;33m)\u001b[0m\u001b[1;33m\u001b[0m\u001b[0m\n",
      "\u001b[1;31mAttributeError\u001b[0m: 'numpy.float64' object has no attribute 'replace'"
     ]
    }
   ],
   "source": [
    "side_effects_json = {}\n",
    "with open('./all_side_effects_json.json') as data_file:    \n",
    "    side_effects_json = json.load(data_file)\n",
    "# structure = [\"Brand Name\",\"Generic Name\",\"Type of Treatment\",\"Brief Description\",\"Quantity\",\"Location\",\"Uninsured Cost\",\"Typical Copay\",\"Rating\",\"Vendor\",\"Effectiveness\",\"Side Effects / Risk\",\"Ingredients\",\"Usage Overview\",\"Conflicting Treatment/Therapies\",\"Food Interaction\",\"Frequency of Treatment\",\"Estimated Percentage of Usage\",\"Additional Information\",\"Reference Link\"]\n",
    "for disease in disease_names:\n",
    "#     drugs = open(os.getcwd()+\"\\\\_drugs\\\\\" + disease[0] + \"_drugs\\\\\"+ disease+\"_drugs.txt\", 'r').read().split(\"\\n\")\n",
    "    print(disease)\n",
    "    drug_df = pd.read_csv(os.getcwd() + \"\\\\csvs\\\\\" + disease+'.csv', encoding='latin1')\n",
    "    drug_df.index = [str(i) for i in range(len(drug_df))]\n",
    "    for i in range(len(drug_df[\"Brand Name\"])):\n",
    "        drug_name = drug_df['Brand Name'][i]\n",
    "        if type(drug_name) is str:\n",
    "            drug_name = drug_name.replace(\" / \", \"-\").replace(\" \", \"-\").replace(\"\\'\", '-').lower()\n",
    "            if drug_name in side_effects_json:\n",
    "                drug_df.set_value(str(i), 'Side Effects / Risk', side_effects_json[drug_name])\n",
    "        #     for section in structure:\n",
    "#         drug_df[section] = np.nan\n",
    "#         drug_df[\"Brand Name\"] = disease_names\n",
    "    drug_df.to_csv('new_csvs/' + disease + '.csv')\n",
    "    break\n",
    "#     drug_df.head()"
   ]
  },
  {
   "cell_type": "code",
   "execution_count": 140,
   "metadata": {},
   "outputs": [
    {
     "data": {
      "text/plain": [
       "True"
      ]
     },
     "execution_count": 140,
     "metadata": {},
     "output_type": "execute_result"
    }
   ],
   "source": [
    "drug_df = pd.read_csv(os.getcwd() + \"\\\\csvs\\\\\" + 'Acne'+'.csv', encoding='latin1')\n",
    "type(drug_df[\"Brand Name\"][0]) is str"
   ]
  },
  {
   "cell_type": "code",
   "execution_count": 120,
   "metadata": {},
   "outputs": [],
   "source": [
    "for disease in disease_names:\n",
    "#     drugs = open(os.getcwd()+\"\\\\_drugs\\\\\" + disease[0] + \"_drugs\\\\\"+ disease+\"_drugs.txt\", 'r').read().split(\"\\n\")\n",
    "#     print(disease)\n",
    "    \n",
    "    drug_df = open(os.getcwd() + \"\\\\csvs\\\\\" + disease+'.csv', 'r').read().encode('utf-8')\n",
    "    outf = open(os.getcwd() + \"\\\\csvs\\\\\" + disease+'.csv', 'w')\n",
    "    outf.write(str(drug_df))\n",
    "    outf.close()"
   ]
  },
  {
   "cell_type": "code",
   "execution_count": null,
   "metadata": {
    "collapsed": true
   },
   "outputs": [],
   "source": []
  }
 ],
 "metadata": {
  "kernelspec": {
   "display_name": "Python 3",
   "language": "python",
   "name": "python3"
  },
  "language_info": {
   "codemirror_mode": {
    "name": "ipython",
    "version": 3
   },
   "file_extension": ".py",
   "mimetype": "text/x-python",
   "name": "python",
   "nbconvert_exporter": "python",
   "pygments_lexer": "ipython3",
   "version": "3.5.3"
  }
 },
 "nbformat": 4,
 "nbformat_minor": 1
}
