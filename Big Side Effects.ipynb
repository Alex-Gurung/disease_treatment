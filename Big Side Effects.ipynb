{
 "cells": [
  {
   "cell_type": "code",
   "execution_count": 2,
   "metadata": {
    "collapsed": true
   },
   "outputs": [],
   "source": [
    "import json\n",
    "import os"
   ]
  },
  {
   "cell_type": "code",
   "execution_count": 7,
   "metadata": {},
   "outputs": [],
   "source": [
    "big_json = {}\n",
    "all_jsons = os.listdir(os.getcwd()+\"\\\\side_effects\")\n",
    "for file_name in all_jsons:\n",
    "    file_path = os.getcwd()+\"\\\\side_effects\\\\\" + file_name\n",
    "    data = {}\n",
    "    with open(file_path) as data_file:    \n",
    "        data = json.load(data_file)\n",
    "    for key, val in data.items():\n",
    "        if not key in big_json:\n",
    "            big_json[key] = val\n",
    "with open('big_json.json', 'w') as outfile:\n",
    "    json.dump(big_json, outfile)"
   ]
  },
  {
   "cell_type": "code",
   "execution_count": null,
   "metadata": {
    "collapsed": true
   },
   "outputs": [],
   "source": []
  }
 ],
 "metadata": {
  "kernelspec": {
   "display_name": "Python 3",
   "language": "python",
   "name": "python3"
  },
  "language_info": {
   "codemirror_mode": {
    "name": "ipython",
    "version": 3
   },
   "file_extension": ".py",
   "mimetype": "text/x-python",
   "name": "python",
   "nbconvert_exporter": "python",
   "pygments_lexer": "ipython3",
   "version": "3.5.3"
  }
 },
 "nbformat": 4,
 "nbformat_minor": 1
}
